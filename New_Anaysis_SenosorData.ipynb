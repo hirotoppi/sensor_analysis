{
 "cells": [
  {
   "cell_type": "markdown",
   "id": "f8530d92-118e-4e2d-a083-46671dfd3fd8",
   "metadata": {},
   "source": [
    "# センサデータを解析するためのプログラム\n",
    "## 流れ\n",
    "### DataFrameにして、時系列グラフやヒストグラムなどで可視化"
   ]
  },
  {
   "cell_type": "markdown",
   "id": "24e4a233-ac7e-49c9-bfcd-9334f0cfbc62",
   "metadata": {},
   "source": [
    "## ライブラリインポート"
   ]
  },
  {
   "cell_type": "code",
   "execution_count": 7,
   "id": "7c393696-db0d-401d-afa9-9a1347f64ed0",
   "metadata": {},
   "outputs": [],
   "source": [
    "#必要なものいろいろインポートするでー\n",
    "import numpy as np\n",
    "import pandas as pd\n",
    "import datetime\n",
    "import matplotlib.pyplot as plt\n",
    "from scipy import stats\n",
    "import seaborn as sns"
   ]
  },
  {
   "cell_type": "markdown",
   "id": "2e8e4b71-d4c0-4f46-8f3b-fd0248948f02",
   "metadata": {},
   "source": [
    "## sensor dataを読み込んでDataFrameに落とし込むclass"
   ]
  },
  {
   "cell_type": "code",
   "execution_count": 8,
   "id": "ffeb4787-2016-4923-b36d-0ed7e18bde56",
   "metadata": {},
   "outputs": [],
   "source": [
    "class Sensor_Data:\n",
    "        #違うセンサデータファイルでもclassのメソッドを使えるように初期化\n",
    "    def __init__(self, file_name, delimiter, header, time, sensor1, probs, unit1, unit2):\n",
    "        self.file_name = file_name #ファイルの名前\n",
    "        self.delimiter = delimiter #delimiter…txtファイルで、隣り合うデータの区切り。半角スペースが多いかも\n",
    "        self.header = header #ファイルのヘッダー\n",
    "        #self.date = date #txtファイルで記録している日付\n",
    "        self.time = time #テキストファイルで記録している時間\n",
    "        self.sensor1 = sensor1 #テキストファイルで記録したsensor\n",
    "        #self.sensor2 = sensor2\n",
    "        self.probs = probs #表を回数→確率にするときに使う。（表の項目設定に使う。）\n",
    "        self.unit1 = unit1\n",
    "        self.unit2 = unit2\n",
    "    \n",
    "    def sensor_dataframe(self):\n",
    "        global data\n",
    "        data = pd.read_csv(self.file_name, self.delimiter, self.header, names = (self.time, self.unit1))\n",
    "        data[self.unit2] = data[self.unit1] * 10** 4 #単位変換[G]->[T]\n",
    "        return data \n",
    "       "
   ]
  },
  {
   "cell_type": "code",
   "execution_count": 9,
   "id": "66e1af76-0170-41fc-a68d-ae42f4b7ce67",
   "metadata": {},
   "outputs": [
    {
     "name": "stderr",
     "output_type": "stream",
     "text": [
      "/tmp/ipykernel_626/2601637816.py:2: FutureWarning: In a future version of pandas all arguments of read_csv except for the argument 'filepath_or_buffer' will be keyword-only\n",
      "  data_frame = sensor_data.sensor_dataframe()\n"
     ]
    },
    {
     "data": {
      "text/html": [
       "<div>\n",
       "<style scoped>\n",
       "    .dataframe tbody tr th:only-of-type {\n",
       "        vertical-align: middle;\n",
       "    }\n",
       "\n",
       "    .dataframe tbody tr th {\n",
       "        vertical-align: top;\n",
       "    }\n",
       "\n",
       "    .dataframe thead th {\n",
       "        text-align: right;\n",
       "    }\n",
       "</style>\n",
       "<table border=\"1\" class=\"dataframe\">\n",
       "  <thead>\n",
       "    <tr style=\"text-align: right;\">\n",
       "      <th></th>\n",
       "      <th>time[μs]</th>\n",
       "      <th>magnetic intensity of z-axis[G]</th>\n",
       "      <th>magnetic intensity of z-axis[T]</th>\n",
       "    </tr>\n",
       "  </thead>\n",
       "  <tbody>\n",
       "    <tr>\n",
       "      <th>0</th>\n",
       "      <td>11054585741</td>\n",
       "      <td>0.602080</td>\n",
       "      <td>6020.80</td>\n",
       "    </tr>\n",
       "    <tr>\n",
       "      <th>1</th>\n",
       "      <td>11054585984</td>\n",
       "      <td>0.602080</td>\n",
       "      <td>6020.80</td>\n",
       "    </tr>\n",
       "    <tr>\n",
       "      <th>2</th>\n",
       "      <td>11054586211</td>\n",
       "      <td>0.602080</td>\n",
       "      <td>6020.80</td>\n",
       "    </tr>\n",
       "    <tr>\n",
       "      <th>3</th>\n",
       "      <td>11054586419</td>\n",
       "      <td>0.602080</td>\n",
       "      <td>6020.80</td>\n",
       "    </tr>\n",
       "    <tr>\n",
       "      <th>4</th>\n",
       "      <td>11054586627</td>\n",
       "      <td>0.602080</td>\n",
       "      <td>6020.80</td>\n",
       "    </tr>\n",
       "    <tr>\n",
       "      <th>...</th>\n",
       "      <td>...</td>\n",
       "      <td>...</td>\n",
       "      <td>...</td>\n",
       "    </tr>\n",
       "    <tr>\n",
       "      <th>8408198</th>\n",
       "      <td>12857938230</td>\n",
       "      <td>0.600347</td>\n",
       "      <td>6003.47</td>\n",
       "    </tr>\n",
       "    <tr>\n",
       "      <th>8408199</th>\n",
       "      <td>12857938442</td>\n",
       "      <td>0.600347</td>\n",
       "      <td>6003.47</td>\n",
       "    </tr>\n",
       "    <tr>\n",
       "      <th>8408200</th>\n",
       "      <td>12857938659</td>\n",
       "      <td>0.600347</td>\n",
       "      <td>6003.47</td>\n",
       "    </tr>\n",
       "    <tr>\n",
       "      <th>8408201</th>\n",
       "      <td>12857938905</td>\n",
       "      <td>0.600347</td>\n",
       "      <td>6003.47</td>\n",
       "    </tr>\n",
       "    <tr>\n",
       "      <th>8408202</th>\n",
       "      <td>12857939081</td>\n",
       "      <td>0.600347</td>\n",
       "      <td>6003.47</td>\n",
       "    </tr>\n",
       "  </tbody>\n",
       "</table>\n",
       "<p>8408203 rows × 3 columns</p>\n",
       "</div>"
      ],
      "text/plain": [
       "            time[μs]  magnetic intensity of z-axis[G]  \\\n",
       "0        11054585741                         0.602080   \n",
       "1        11054585984                         0.602080   \n",
       "2        11054586211                         0.602080   \n",
       "3        11054586419                         0.602080   \n",
       "4        11054586627                         0.602080   \n",
       "...              ...                              ...   \n",
       "8408198  12857938230                         0.600347   \n",
       "8408199  12857938442                         0.600347   \n",
       "8408200  12857938659                         0.600347   \n",
       "8408201  12857938905                         0.600347   \n",
       "8408202  12857939081                         0.600347   \n",
       "\n",
       "         magnetic intensity of z-axis[T]  \n",
       "0                                6020.80  \n",
       "1                                6020.80  \n",
       "2                                6020.80  \n",
       "3                                6020.80  \n",
       "4                                6020.80  \n",
       "...                                  ...  \n",
       "8408198                          6003.47  \n",
       "8408199                          6003.47  \n",
       "8408200                          6003.47  \n",
       "8408201                          6003.47  \n",
       "8408202                          6003.47  \n",
       "\n",
       "[8408203 rows x 3 columns]"
      ]
     },
     "execution_count": 9,
     "metadata": {},
     "output_type": "execute_result"
    }
   ],
   "source": [
    "sensor_data = Sensor_Data(\"3DM-DH_center_gnu_0706_2nd.txt\", \" \", None, \"time[μs]\", \"center\", \"Probs\", \"magnetic intensity of z-axis[G]\",\"magnetic intensity of z-axis[T]\" )\n",
    "data_frame = sensor_data.sensor_dataframe()\n",
    "#data_frame[\"magnetic intensity of z-axis[T]\"] = data_frame[\"magnetic intensity of z-axis[G]\"] * 10** (4)\n",
    "data_frame\n"
   ]
  },
  {
   "cell_type": "markdown",
   "id": "92195623-1543-476c-9fcf-df826e526c90",
   "metadata": {},
   "source": [
    "## グラフを作るclass\n",
    "### time_series_plt(self) : 時系列グラフをプロットする関数"
   ]
  },
  {
   "cell_type": "code",
   "execution_count": 10,
   "id": "1cdf73e8-95c2-41ce-843a-9269efd6a560",
   "metadata": {},
   "outputs": [],
   "source": [
    "class Graph_Plot(Sensor_Data):\n",
    "    #def __init__(self):\n",
    "        #super().__init__()\n",
    "    \n",
    "    def time_series_plt(self):\n",
    "        data = super().sensor_dataframe()\n",
    "        #data = super().data\n",
    "        \n",
    "        fig, ax = plt.subplots()\n",
    "        plt.figure(figsize=(6, 4))\n",
    "        ax.plot(data[self.time], data[self.unit2])\n",
    "        ax.set_xlabel(self.time)\n",
    "        ax.set_ylabel(self.unit2)\n",
    "        ax.set_title(self.sensor1)\n",
    "        plt.show()\n",
    "        \n",
    "    def histgram_plt(self):\n",
    "        data = super().sensor_dataframe()\n",
    "        #return data[\"magnetic intensity of z-axis[T]\"].values\n",
    "        \n",
    "        mag = []\n",
    "        for i in range(len(data)):\n",
    "            mag.append(data[self.unit2][i])\n",
    "            \n",
    "        \"\"\"\n",
    "        fig1, ax = plt.subplots()\n",
    "        hist = ax.hist(data[\"magnetic intensity of z-axis[T]\"].values, bins=30)\n",
    "        ax.plot(hist)\n",
    "        ax.set_xlabel(\"magnetic intensity of z-axis[T]\")\n",
    "        ax.set_ylabel(\"frequency\")\n",
    "        ax.set_title(\"histgram\")\n",
    "        plt.show()\n",
    "        \"\"\"\n",
    "        plt.figure(figsize=(6, 4))\n",
    "        plt.title(self.sensor1)\n",
    "        plt.xlabel(self.unit2)\n",
    "        plt.ylabel(\"frequency\")\n",
    "        plt.hist(mag, bins=30)\n",
    "        plt.grid(True)\n",
    "        plt.show()\n",
    "        \n",
    "        #print(data[self.unit])\n",
    "        "
   ]
  },
  {
   "cell_type": "code",
   "execution_count": 15,
   "id": "20aed6fa-473e-487c-9d16-d8bc3832fbda",
   "metadata": {},
   "outputs": [
    {
     "name": "stderr",
     "output_type": "stream",
     "text": [
      "/tmp/ipykernel_626/669095725.py:6: FutureWarning: In a future version of pandas all arguments of read_csv except for the argument 'filepath_or_buffer' will be keyword-only\n",
      "  data = super().sensor_dataframe()\n"
     ]
    },
    {
     "data": {
      "image/png": "[encoded data removed]",
      "text/plain": [
       "<Figure size 432x288 with 1 Axes>"
      ]
     },
     "metadata": {
      "needs_background": "light"
     },
     "output_type": "display_data"
    },
    {
     "data": {
      "text/plain": [
       "<Figure size 432x288 with 0 Axes>"
      ]
     },
     "metadata": {},
     "output_type": "display_data"
    }
   ],
   "source": [
    "graph_plot = Graph_Plot(\"3DM-DH_left_gnu_0705_2nd.txt\", \" \", None, \"time[μs]\", \"left\", \"Probs\", \"magnetic intensity of z-axis[G]\", \"magnetic intensity of z-axis[T]\")\n",
    "#time_series = Time_Series()\n",
    "graph_plot.time_series_plt()"
   ]
  },
  {
   "cell_type": "code",
   "execution_count": 16,
   "id": "4de3dd54-daa0-43f5-bde8-4bfac78f6686",
   "metadata": {},
   "outputs": [
    {
     "name": "stderr",
     "output_type": "stream",
     "text": [
      "/tmp/ipykernel_626/669095725.py:18: FutureWarning: In a future version of pandas all arguments of read_csv except for the argument 'filepath_or_buffer' will be keyword-only\n",
      "  data = super().sensor_dataframe()\n"
     ]
    },
    {
     "data": {
      "image/png": "[encoded data removed]",
      "text/plain": [
       "<Figure size 432x288 with 1 Axes>"
      ]
     },
     "metadata": {
      "needs_background": "light"
     },
     "output_type": "display_data"
    }
   ],
   "source": [
    "graph_plot.histgram_plt()"
   ]
  },
  {
   "cell_type": "code",
   "execution_count": null,
   "id": "12dc052f-db5c-4f64-b4d5-e7be49de354b",
   "metadata": {},
   "outputs": [],
   "source": []
  },
  {
   "cell_type": "code",
   "execution_count": null,
   "id": "36655e3b-d53e-4a31-962a-8ff243e536bb",
   "metadata": {},
   "outputs": [],
   "source": []
  }
 ],
 "metadata": {
  "kernelspec": {
   "display_name": "Python 3 (ipykernel)",
   "language": "python",
   "name": "python3"
  },
  "language_info": {
   "codemirror_mode": {
    "name": "ipython",
    "version": 3
   },
   "file_extension": ".py",
   "mimetype": "text/x-python",
   "name": "python",
   "nbconvert_exporter": "python",
   "pygments_lexer": "ipython3",
   "version": "3.9.6"
  }
 },
 "nbformat": 4,
 "nbformat_minor": 5
}
